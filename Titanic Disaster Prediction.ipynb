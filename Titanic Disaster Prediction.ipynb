{
 "cells": [
  {
   "cell_type": "markdown",
   "metadata": {},
   "source": [
    "### Objective to predict the survival of passenger in titanic"
   ]
  },
  {
   "cell_type": "code",
   "execution_count": 13,
   "metadata": {},
   "outputs": [],
   "source": [
    "#import the dataset\n",
    "\n",
    "import pandas as pd\n",
    "import matplotlib.pyplot as plt\n",
    "import numpy as np\n",
    "import seaborn as sns\n",
    "\n",
    "#import required libraries for accuracy matrix calcuation\n",
    "from sklearn.metrics import confusion_matrix, accuracy_score, precision_score, roc_curve\n",
    "\n",
    "ds_train = pd.read_csv('/train.csv')\n",
    "ds_test = pd.read_csv('/test.csv')"
   ]
  },
  {
   "cell_type": "code",
   "execution_count": 14,
   "metadata": {},
   "outputs": [],
   "source": [
    "#Create copy of the test data set which will be needed for submission purpose\n",
    "ds_test_copy = ds_test.copy(deep=True)"
   ]
  },
  {
   "cell_type": "code",
   "execution_count": 15,
   "metadata": {},
   "outputs": [
    {
     "name": "stdout",
     "output_type": "stream",
     "text": [
      "<class 'pandas.core.frame.DataFrame'>\n",
      "RangeIndex: 891 entries, 0 to 890\n",
      "Data columns (total 12 columns):\n",
      "PassengerId    891 non-null int64\n",
      "Survived       891 non-null int64\n",
      "Pclass         891 non-null int64\n",
      "Name           891 non-null object\n",
      "Sex            891 non-null object\n",
      "Age            714 non-null float64\n",
      "SibSp          891 non-null int64\n",
      "Parch          891 non-null int64\n",
      "Ticket         891 non-null object\n",
      "Fare           891 non-null float64\n",
      "Cabin          204 non-null object\n",
      "Embarked       889 non-null object\n",
      "dtypes: float64(2), int64(5), object(5)\n",
      "memory usage: 83.6+ KB\n",
      "None\n",
      "----------\n",
      "<class 'pandas.core.frame.DataFrame'>\n",
      "RangeIndex: 418 entries, 0 to 417\n",
      "Data columns (total 11 columns):\n",
      "PassengerId    418 non-null int64\n",
      "Pclass         418 non-null int64\n",
      "Name           418 non-null object\n",
      "Sex            418 non-null object\n",
      "Age            332 non-null float64\n",
      "SibSp          418 non-null int64\n",
      "Parch          418 non-null int64\n",
      "Ticket         418 non-null object\n",
      "Fare           417 non-null float64\n",
      "Cabin          91 non-null object\n",
      "Embarked       418 non-null object\n",
      "dtypes: float64(2), int64(4), object(5)\n",
      "memory usage: 36.0+ KB\n",
      "None\n"
     ]
    }
   ],
   "source": [
    "#get train data information so that we can find missing data and datatypes\n",
    "print(ds_train.info())\n",
    "print('-'*10)\n",
    "print(ds_test.info())"
   ]
  },
  {
   "cell_type": "code",
   "execution_count": 16,
   "metadata": {},
   "outputs": [
    {
     "name": "stdout",
     "output_type": "stream",
     "text": [
      "PassengerId      0\n",
      "Survived         0\n",
      "Pclass           0\n",
      "Name             0\n",
      "Sex              0\n",
      "Age            177\n",
      "SibSp            0\n",
      "Parch            0\n",
      "Ticket           0\n",
      "Fare             0\n",
      "Cabin          687\n",
      "Embarked         2\n",
      "dtype: int64\n",
      "PassengerId      0\n",
      "Pclass           0\n",
      "Name             0\n",
      "Sex              0\n",
      "Age             86\n",
      "SibSp            0\n",
      "Parch            0\n",
      "Ticket           0\n",
      "Fare             1\n",
      "Cabin          327\n",
      "Embarked         0\n",
      "dtype: int64\n"
     ]
    }
   ],
   "source": [
    "#find the total number of null value rows for each column\n",
    "print(ds_train.isnull().sum())\n",
    "print(ds_test.isnull().sum())"
   ]
  },
  {
   "cell_type": "code",
   "execution_count": 17,
   "metadata": {},
   "outputs": [],
   "source": [
    "#combine both the train and test data sets so that we can do modification in data set and feature scalling consistently for both data sets\n",
    "dataset = [ds_train, ds_test]"
   ]
  },
  {
   "cell_type": "code",
   "execution_count": 18,
   "metadata": {},
   "outputs": [],
   "source": [
    "#Need to preprocess the data.\n",
    "#Here we can see that some of the records in train data sets for column Age, Cabin and Embarked don't have data\n",
    "#Like wise test data set also don't have the data  \n",
    "#Need to replace null values with some placeholder\n",
    "#We will be using median of Age and Fare to fill the empty data\n",
    "for dset in dataset:\n",
    "    dset['Age'].fillna(dset['Age'].median(), inplace=True)\n",
    "    dset['Fare'].fillna(dset['Fare'].mode()[0], inplace=True)\n",
    "    dset['Embarked'].fillna(dset['Embarked'].mode()[0], inplace=True)"
   ]
  },
  {
   "cell_type": "code",
   "execution_count": 19,
   "metadata": {},
   "outputs": [],
   "source": [
    "\n",
    "#Do feature scalling for test and train data.\n",
    "# We will be creating new features based on the existing feature.\n",
    "#1. Title:  Create title from name present in both data sets\n",
    "#2. Cabin_assigned: We can see that some of the passenger assigned with cabins whereas other don't have cabin assign to them\n",
    "    #So here cabin could be an important point to find the survival of the passenger. Check the existence of the cabin for a given passenger\n",
    "#3. Age_Cat: From the dataset we can see that Age is scattered from 0.4 to 80 years. We will be categorizing age in to bin of 4\n",
    "#4. Fare_Cat: We are categorizing fare again in to different 4 categories\n",
    "#5. Familly_Size: Familly size will include the passengers sibling, spouse, parents and passenger himself\n",
    "#As we can see that there is Title present in name, let's create a new feature Title from saluation present in name attribute\n",
    "for dset in dataset:\n",
    "    dset['Title'] = dset.Name.str.split(',', expand=True)[1].str.split('.', expand=True)[0]\n",
    "    dset['Cabin_assigned'] = ~dset.Cabin.isnull()\n",
    "    dset['Age_Cat'] = pd.qcut(dset.Age, q = 4, labels = False)\n",
    "    dset['Fare_Cat'] = pd.qcut(dset.Fare, q = 4, labels = False)\n",
    "    dset['Familly_Size'] = dset.SibSp + dset.Parch + 1"
   ]
  },
  {
   "cell_type": "code",
   "execution_count": 20,
   "metadata": {},
   "outputs": [
    {
     "data": {
      "image/png": "[encoded data removed]",
      "text/plain": [
       "<Figure size 432x288 with 1 Axes>"
      ]
     },
     "metadata": {
      "needs_background": "light"
     },
     "output_type": "display_data"
    }
   ],
   "source": [
    "#Plot all available title in data \n",
    "sns.countplot(x='Title', data = ds_train)\n",
    "plt.xticks(rotation=45);"
   ]
  },
  {
   "cell_type": "code",
   "execution_count": 21,
   "metadata": {},
   "outputs": [],
   "source": [
    "#From above graph we can see that there are Titles like Mme, Major, Lady etc. We will be merging all those titles to single title as Special\n",
    "ds_train['Title'].replace({'Mlle':'Miss', 'Mme': 'Mrs', 'Ms':'Miss'}, inplace=True, regex=True)\n",
    "ds_train['Title'].replace(['Don','Dona', 'Rev', 'Dr', 'Major', 'Lady', 'Sir', 'Col', 'Capt', 'the Countess', 'Jonkheer'], 'Special', inplace=True, regex=True)\n",
    "ds_test['Title'].replace({'Mlle':'Miss', 'Mme': 'Mrs', 'Ms':'Miss'}, inplace=True, regex=True)\n",
    "ds_test['Title'].replace(['Don','Dona', 'Rev', 'Dr', 'Major', 'Lady', 'Sir', 'Col', 'Capt', 'the Countess', 'Jonkheer', 'Speciala'], 'Special', inplace=True, regex=True)\n"
   ]
  },
  {
   "cell_type": "code",
   "execution_count": 22,
   "metadata": {},
   "outputs": [],
   "source": [
    "#Since there are some of the column which we don't need now like Name, Cabin, Age and Fare.\n",
    "#The reason being we have derived new attributes from the above attributes\n",
    "remove_attribute = ['Age', 'Fare', 'Cabin', 'Name', 'PassengerId', 'Ticket', 'SibSp', 'Parch']\n",
    "ds_train = ds_train.drop(remove_attribute, axis = 1)\n",
    "ds_test = ds_test.drop(remove_attribute, axis = 1)"
   ]
  },
  {
   "cell_type": "code",
   "execution_count": 23,
   "metadata": {},
   "outputs": [],
   "source": [
    "#we will be trying out multiple learning models.\n",
    "#below method is used to find the accuracy and precesion of the model \n",
    "\n",
    "\"\"\"\n",
    " Find the accuracy of the model\n",
    "\"\"\"\n",
    "def accuracy_score_method(y_test, y_predicted):\n",
    "    cm = confusion_matrix(y_test, y_predicted)\n",
    "    acc_socre = accuracy_score(y_test, y_predicted)\n",
    "    prec_score = precision_score(y_test, y_predicted)\n",
    "    roc_curve_value = roc_curve(y_test, y_predicted) \n",
    "    print(\"Confusion matrix %s\", cm)\n",
    "    print(\"accuracy score %s\", acc_socre)\n",
    "    print(\"precision score %s\", prec_score)\n",
    "    print(\"roc curve %s\", roc_curve_value)"
   ]
  },
  {
   "cell_type": "code",
   "execution_count": null,
   "metadata": {},
   "outputs": [],
   "source": [
    "#We have already done featuer scalling which includes features like Title, which has number of values like Mr., Mrs. etc.\n",
    "#Here we will be encoding features like Gendre, Title, etc.\n",
    "#Transforming data into binary variables\n",
    "ds_train = pd.get_dummies(ds_train, drop_first=True)\n",
    "ds_test = pd.get_dummies(ds_test, drop_first=True)"
   ]
  },
  {
   "cell_type": "code",
   "execution_count": null,
   "metadata": {},
   "outputs": [],
   "source": [
    "#Create dependent and independent variables from training data sets\n",
    "X = ds_train.iloc[:,1:]\n",
    "y = ds_train.iloc[:,0]"
   ]
  },
  {
   "cell_type": "code",
   "execution_count": null,
   "metadata": {},
   "outputs": [],
   "source": [
    "#Split dataset into train and testing\n",
    "from sklearn.model_selection import train_test_split\n",
    "X_train, X_test, y_train, y_test = train_test_split(X,y, test_size = 0.2)"
   ]
  },
  {
   "cell_type": "code",
   "execution_count": null,
   "metadata": {},
   "outputs": [],
   "source": [
    "#Create different models and check the result one by one.\n",
    "\n",
    "#Start with Support Vector Machine SVC\n",
    "from sklearn.svm import SVC\n",
    "classifier = SVC(kernel='rbf', random_state=0, gamma=0.1)\n",
    "classifier.fit(X_train, y_train)\n",
    "svc_prediction = classifier.predict(X_test)\n",
    "accuracy_score_method(y_test, svc_prediction)\n",
    "\n",
    "#GridSearch algo for parameter tunning for SVC\n",
    "\n",
    " #from sklearn.grid_search import GridSearchCV\n",
    " #svc_parameter = [ {\"kernel\":['rbf']}, {\"gamma\":[1e-1, 1e-2]}]\n",
    " #gridsearch = GridSearchCV(  classifier, param_grid = svc_parameter, cv=10)\n",
    " #gridsearch.fit(X_train, y_train)\n",
    " #print(\"Best parameters %s\", gridsearch.best_params_)\n",
    " #print(\"Best score %s\", gridsearch.best_score_)"
   ]
  },
  {
   "cell_type": "code",
   "execution_count": null,
   "metadata": {},
   "outputs": [],
   "source": [
    "\n",
    "#Compute with RandomForest Tree classification\n",
    "from sklearn.ensemble import RandomForestClassifier\n",
    "rf_classifier = RandomForestClassifier( n_estimators = 10, max_depth=6)\n",
    "rf_classifier.fit(X_train, y_train)\n",
    "rf_prediction = rf_classifier.predict(X_test)\n",
    "accuracy_score_method(y_test, rf_prediction)\n",
    "\n",
    "#GridSearch algo for parameter tunning for RandomeForest\n",
    "\n",
    "#rf_parameter = [ {\"n_estimators\":[10,100,1000]}, {\"max_depth\":[1,3,5,6,7,10,100]}]\n",
    "#gridsearch = GridSearchCV(  rf_classifier, param_grid = rf_parameter, cv=10)\n",
    "#gridsearch.fit(X_train, y_train)\n",
    "#print(\"Best parameters %s\", gridsearch.best_params_)\n",
    "#print(\"Best score %s\", gridsearch.best_score_)"
   ]
  },
  {
   "cell_type": "code",
   "execution_count": null,
   "metadata": {},
   "outputs": [],
   "source": [
    "#LogisticRegression\n",
    "from sklearn.linear_model import LogisticRegression\n",
    "logistic_regression = LogisticRegression(solver='lbfgs', multi_class='multinomial', random_state=0)\n",
    "logistic_regression.fit(X_train, y_train)\n",
    "logistic_prediction = logistic_regression.predict(X_test)\n",
    "accuracy_score_method(y_test, logistic_prediction)"
   ]
  },
  {
   "cell_type": "code",
   "execution_count": null,
   "metadata": {},
   "outputs": [],
   "source": [
    "#SGDClassifier\n",
    "from sklearn.linear_model import SGDClassifier\n",
    "sgdClassifier = SGDClassifier(penalty='elasticnet')\n",
    "sgdClassifier.fit(X_train, y_train)\n",
    "sgd_prediction = sgdClassifier.predict(X_test)\n",
    "accuracy_score_method(y_test, sgd_prediction)"
   ]
  },
  {
   "cell_type": "code",
   "execution_count": null,
   "metadata": {},
   "outputs": [],
   "source": [
    "#Ensemble learning which combines all the algoritham\n",
    "from sklearn.ensemble import VotingClassifier\n",
    "voting_classifier = VotingClassifier(estimators=[('lr', logistic_regression), ('rf', rf_classifier), ('svc', classifier)], voting='hard')\n",
    "voting_classifier.fit(X_train, y_train)\n",
    "voting_prediction = voting_classifier.predict(X_test)\n",
    "accuracy_score_method(y_test, voting_prediction)"
   ]
  },
  {
   "cell_type": "code",
   "execution_count": null,
   "metadata": {},
   "outputs": [],
   "source": [
    "#Predict the final result to be submitted to Kaggal\n",
    "ds_predict = classifier.predict(ds_test)    \n"
   ]
  },
  {
   "cell_type": "code",
   "execution_count": null,
   "metadata": {},
   "outputs": [],
   "source": [
    "#prepare the submission.csv for kaggle\n",
    "ds_test_copy['Survived'] = ds_predict\n",
    "ds_test_copy[['PassengerId', 'Survived']].to_csv('SUBMISSION.csv', index=False)\n"
   ]
  }
 ],
 "metadata": {
  "kernelspec": {
   "display_name": "Python 3",
   "language": "python",
   "name": "python3"
  },
  "language_info": {
   "codemirror_mode": {
    "name": "ipython",
    "version": 3
   },
   "file_extension": ".py",
   "mimetype": "text/x-python",
   "name": "python",
   "nbconvert_exporter": "python",
   "pygments_lexer": "ipython3",
   "version": "3.7.0"
  }
 },
 "nbformat": 4,
 "nbformat_minor": 2
}
